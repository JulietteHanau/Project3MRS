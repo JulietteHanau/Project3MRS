{
  "nbformat": 4,
  "nbformat_minor": 0,
  "metadata": {
    "colab": {
      "provenance": [],
      "collapsed_sections": [],
      "authorship_tag": "ABX9TyP/IyOl0y4b1vrFfv3UUVn9",
      "include_colab_link": true
    },
    "kernelspec": {
      "name": "python3",
      "display_name": "Python 3"
    },
    "language_info": {
      "name": "python"
    }
  },
  "cells": [
    {
      "cell_type": "markdown",
      "metadata": {
        "id": "view-in-github",
        "colab_type": "text"
      },
      "source": [
        "<a href=\"https://colab.research.google.com/github/Sebastiao199/Project3MRS/blob/main/title_akas_generic__analysis.ipynb\" target=\"_parent\"><img src=\"https://colab.research.google.com/assets/colab-badge.svg\" alt=\"Open In Colab\"/></a>"
      ]
    },
    {
      "cell_type": "code",
      "execution_count": null,
      "metadata": {
        "id": "wHeA8WoJk6qx"
      },
      "outputs": [],
      "source": [
        "import pandas as pd"
      ]
    },
    {
      "cell_type": "code",
      "source": [
        "title_akas = pd.read_csv('https://datasets.imdbws.com/title.akas.tsv.gz', sep = '\\t')\n",
        "title_akas"
      ],
      "metadata": {
        "colab": {
          "base_uri": "https://localhost:8080/",
          "height": 458
        },
        "id": "4UnvRCR3lAzR",
        "outputId": "1684ea99-f183-408f-e0ec-0bf0e0798d3e"
      },
      "execution_count": null,
      "outputs": [
        {
          "output_type": "stream",
          "name": "stderr",
          "text": [
            "/usr/local/lib/python3.7/dist-packages/IPython/core/interactiveshell.py:3326: DtypeWarning: Columns (7) have mixed types.Specify dtype option on import or set low_memory=False.\n",
            "  exec(code_obj, self.user_global_ns, self.user_ns)\n"
          ]
        },
        {
          "output_type": "execute_result",
          "data": {
            "text/plain": [
              "            titleId  ordering                      title region language  \\\n",
              "0         tt0000001         1                 Карменсіта     UA       \\N   \n",
              "1         tt0000001         2                 Carmencita     DE       \\N   \n",
              "2         tt0000001         3  Carmencita - spanyol tánc     HU       \\N   \n",
              "3         tt0000001         4                 Καρμενσίτα     GR       \\N   \n",
              "4         tt0000001         5                 Карменсита     RU       \\N   \n",
              "...             ...       ...                        ...    ...      ...   \n",
              "33516343  tt9916852         5             Episódio #3.20     PT       pt   \n",
              "33516344  tt9916852         6             Episodio #3.20     IT       it   \n",
              "33516345  tt9916852         7               एपिसोड #3.20     IN       hi   \n",
              "33516346  tt9916856         1                   The Wind     DE       \\N   \n",
              "33516347  tt9916856         2                   The Wind     \\N       \\N   \n",
              "\n",
              "         types attributes isOriginalTitle  \n",
              "0           \\N         \\N               0  \n",
              "1           \\N         \\N               0  \n",
              "2           \\N         \\N               0  \n",
              "3           \\N         \\N               0  \n",
              "4           \\N         \\N               0  \n",
              "...        ...        ...             ...  \n",
              "33516343    \\N         \\N               0  \n",
              "33516344    \\N         \\N               0  \n",
              "33516345    \\N         \\N               0  \n",
              "33516346    \\N         \\N               0  \n",
              "33516347    \\N         \\N               1  \n",
              "\n",
              "[33516348 rows x 8 columns]"
            ],
            "text/html": [
              "\n",
              "  <div id=\"df-f9d10d39-8e9b-486b-9f94-f317abae3a96\">\n",
              "    <div class=\"colab-df-container\">\n",
              "      <div>\n",
              "<style scoped>\n",
              "    .dataframe tbody tr th:only-of-type {\n",
              "        vertical-align: middle;\n",
              "    }\n",
              "\n",
              "    .dataframe tbody tr th {\n",
              "        vertical-align: top;\n",
              "    }\n",
              "\n",
              "    .dataframe thead th {\n",
              "        text-align: right;\n",
              "    }\n",
              "</style>\n",
              "<table border=\"1\" class=\"dataframe\">\n",
              "  <thead>\n",
              "    <tr style=\"text-align: right;\">\n",
              "      <th></th>\n",
              "      <th>titleId</th>\n",
              "      <th>ordering</th>\n",
              "      <th>title</th>\n",
              "      <th>region</th>\n",
              "      <th>language</th>\n",
              "      <th>types</th>\n",
              "      <th>attributes</th>\n",
              "      <th>isOriginalTitle</th>\n",
              "    </tr>\n",
              "  </thead>\n",
              "  <tbody>\n",
              "    <tr>\n",
              "      <th>0</th>\n",
              "      <td>tt0000001</td>\n",
              "      <td>1</td>\n",
              "      <td>Карменсіта</td>\n",
              "      <td>UA</td>\n",
              "      <td>\\N</td>\n",
              "      <td>\\N</td>\n",
              "      <td>\\N</td>\n",
              "      <td>0</td>\n",
              "    </tr>\n",
              "    <tr>\n",
              "      <th>1</th>\n",
              "      <td>tt0000001</td>\n",
              "      <td>2</td>\n",
              "      <td>Carmencita</td>\n",
              "      <td>DE</td>\n",
              "      <td>\\N</td>\n",
              "      <td>\\N</td>\n",
              "      <td>\\N</td>\n",
              "      <td>0</td>\n",
              "    </tr>\n",
              "    <tr>\n",
              "      <th>2</th>\n",
              "      <td>tt0000001</td>\n",
              "      <td>3</td>\n",
              "      <td>Carmencita - spanyol tánc</td>\n",
              "      <td>HU</td>\n",
              "      <td>\\N</td>\n",
              "      <td>\\N</td>\n",
              "      <td>\\N</td>\n",
              "      <td>0</td>\n",
              "    </tr>\n",
              "    <tr>\n",
              "      <th>3</th>\n",
              "      <td>tt0000001</td>\n",
              "      <td>4</td>\n",
              "      <td>Καρμενσίτα</td>\n",
              "      <td>GR</td>\n",
              "      <td>\\N</td>\n",
              "      <td>\\N</td>\n",
              "      <td>\\N</td>\n",
              "      <td>0</td>\n",
              "    </tr>\n",
              "    <tr>\n",
              "      <th>4</th>\n",
              "      <td>tt0000001</td>\n",
              "      <td>5</td>\n",
              "      <td>Карменсита</td>\n",
              "      <td>RU</td>\n",
              "      <td>\\N</td>\n",
              "      <td>\\N</td>\n",
              "      <td>\\N</td>\n",
              "      <td>0</td>\n",
              "    </tr>\n",
              "    <tr>\n",
              "      <th>...</th>\n",
              "      <td>...</td>\n",
              "      <td>...</td>\n",
              "      <td>...</td>\n",
              "      <td>...</td>\n",
              "      <td>...</td>\n",
              "      <td>...</td>\n",
              "      <td>...</td>\n",
              "      <td>...</td>\n",
              "    </tr>\n",
              "    <tr>\n",
              "      <th>33516343</th>\n",
              "      <td>tt9916852</td>\n",
              "      <td>5</td>\n",
              "      <td>Episódio #3.20</td>\n",
              "      <td>PT</td>\n",
              "      <td>pt</td>\n",
              "      <td>\\N</td>\n",
              "      <td>\\N</td>\n",
              "      <td>0</td>\n",
              "    </tr>\n",
              "    <tr>\n",
              "      <th>33516344</th>\n",
              "      <td>tt9916852</td>\n",
              "      <td>6</td>\n",
              "      <td>Episodio #3.20</td>\n",
              "      <td>IT</td>\n",
              "      <td>it</td>\n",
              "      <td>\\N</td>\n",
              "      <td>\\N</td>\n",
              "      <td>0</td>\n",
              "    </tr>\n",
              "    <tr>\n",
              "      <th>33516345</th>\n",
              "      <td>tt9916852</td>\n",
              "      <td>7</td>\n",
              "      <td>एपिसोड #3.20</td>\n",
              "      <td>IN</td>\n",
              "      <td>hi</td>\n",
              "      <td>\\N</td>\n",
              "      <td>\\N</td>\n",
              "      <td>0</td>\n",
              "    </tr>\n",
              "    <tr>\n",
              "      <th>33516346</th>\n",
              "      <td>tt9916856</td>\n",
              "      <td>1</td>\n",
              "      <td>The Wind</td>\n",
              "      <td>DE</td>\n",
              "      <td>\\N</td>\n",
              "      <td>\\N</td>\n",
              "      <td>\\N</td>\n",
              "      <td>0</td>\n",
              "    </tr>\n",
              "    <tr>\n",
              "      <th>33516347</th>\n",
              "      <td>tt9916856</td>\n",
              "      <td>2</td>\n",
              "      <td>The Wind</td>\n",
              "      <td>\\N</td>\n",
              "      <td>\\N</td>\n",
              "      <td>\\N</td>\n",
              "      <td>\\N</td>\n",
              "      <td>1</td>\n",
              "    </tr>\n",
              "  </tbody>\n",
              "</table>\n",
              "<p>33516348 rows × 8 columns</p>\n",
              "</div>\n",
              "      <button class=\"colab-df-convert\" onclick=\"convertToInteractive('df-f9d10d39-8e9b-486b-9f94-f317abae3a96')\"\n",
              "              title=\"Convert this dataframe to an interactive table.\"\n",
              "              style=\"display:none;\">\n",
              "        \n",
              "  <svg xmlns=\"http://www.w3.org/2000/svg\" height=\"24px\"viewBox=\"0 0 24 24\"\n",
              "       width=\"24px\">\n",
              "    <path d=\"M0 0h24v24H0V0z\" fill=\"none\"/>\n",
              "    <path d=\"M18.56 5.44l.94 2.06.94-2.06 2.06-.94-2.06-.94-.94-2.06-.94 2.06-2.06.94zm-11 1L8.5 8.5l.94-2.06 2.06-.94-2.06-.94L8.5 2.5l-.94 2.06-2.06.94zm10 10l.94 2.06.94-2.06 2.06-.94-2.06-.94-.94-2.06-.94 2.06-2.06.94z\"/><path d=\"M17.41 7.96l-1.37-1.37c-.4-.4-.92-.59-1.43-.59-.52 0-1.04.2-1.43.59L10.3 9.45l-7.72 7.72c-.78.78-.78 2.05 0 2.83L4 21.41c.39.39.9.59 1.41.59.51 0 1.02-.2 1.41-.59l7.78-7.78 2.81-2.81c.8-.78.8-2.07 0-2.86zM5.41 20L4 18.59l7.72-7.72 1.47 1.35L5.41 20z\"/>\n",
              "  </svg>\n",
              "      </button>\n",
              "      \n",
              "  <style>\n",
              "    .colab-df-container {\n",
              "      display:flex;\n",
              "      flex-wrap:wrap;\n",
              "      gap: 12px;\n",
              "    }\n",
              "\n",
              "    .colab-df-convert {\n",
              "      background-color: #E8F0FE;\n",
              "      border: none;\n",
              "      border-radius: 50%;\n",
              "      cursor: pointer;\n",
              "      display: none;\n",
              "      fill: #1967D2;\n",
              "      height: 32px;\n",
              "      padding: 0 0 0 0;\n",
              "      width: 32px;\n",
              "    }\n",
              "\n",
              "    .colab-df-convert:hover {\n",
              "      background-color: #E2EBFA;\n",
              "      box-shadow: 0px 1px 2px rgba(60, 64, 67, 0.3), 0px 1px 3px 1px rgba(60, 64, 67, 0.15);\n",
              "      fill: #174EA6;\n",
              "    }\n",
              "\n",
              "    [theme=dark] .colab-df-convert {\n",
              "      background-color: #3B4455;\n",
              "      fill: #D2E3FC;\n",
              "    }\n",
              "\n",
              "    [theme=dark] .colab-df-convert:hover {\n",
              "      background-color: #434B5C;\n",
              "      box-shadow: 0px 1px 3px 1px rgba(0, 0, 0, 0.15);\n",
              "      filter: drop-shadow(0px 1px 2px rgba(0, 0, 0, 0.3));\n",
              "      fill: #FFFFFF;\n",
              "    }\n",
              "  </style>\n",
              "\n",
              "      <script>\n",
              "        const buttonEl =\n",
              "          document.querySelector('#df-f9d10d39-8e9b-486b-9f94-f317abae3a96 button.colab-df-convert');\n",
              "        buttonEl.style.display =\n",
              "          google.colab.kernel.accessAllowed ? 'block' : 'none';\n",
              "\n",
              "        async function convertToInteractive(key) {\n",
              "          const element = document.querySelector('#df-f9d10d39-8e9b-486b-9f94-f317abae3a96');\n",
              "          const dataTable =\n",
              "            await google.colab.kernel.invokeFunction('convertToInteractive',\n",
              "                                                     [key], {});\n",
              "          if (!dataTable) return;\n",
              "\n",
              "          const docLinkHtml = 'Like what you see? Visit the ' +\n",
              "            '<a target=\"_blank\" href=https://colab.research.google.com/notebooks/data_table.ipynb>data table notebook</a>'\n",
              "            + ' to learn more about interactive tables.';\n",
              "          element.innerHTML = '';\n",
              "          dataTable['output_type'] = 'display_data';\n",
              "          await google.colab.output.renderOutput(dataTable, element);\n",
              "          const docLink = document.createElement('div');\n",
              "          docLink.innerHTML = docLinkHtml;\n",
              "          element.appendChild(docLink);\n",
              "        }\n",
              "      </script>\n",
              "    </div>\n",
              "  </div>\n",
              "  "
            ]
          },
          "metadata": {},
          "execution_count": 2
        }
      ]
    },
    {
      "cell_type": "code",
      "source": [
        "title_akas.info()"
      ],
      "metadata": {
        "colab": {
          "base_uri": "https://localhost:8080/"
        },
        "id": "ZVqf0OMil9Wq",
        "outputId": "125e07e4-6bcd-49a3-9162-27e1906056cb"
      },
      "execution_count": null,
      "outputs": [
        {
          "output_type": "stream",
          "name": "stdout",
          "text": [
            "<class 'pandas.core.frame.DataFrame'>\n",
            "RangeIndex: 33516348 entries, 0 to 33516347\n",
            "Data columns (total 8 columns):\n",
            " #   Column           Dtype \n",
            "---  ------           ----- \n",
            " 0   titleId          object\n",
            " 1   ordering         int64 \n",
            " 2   title            object\n",
            " 3   region           object\n",
            " 4   language         object\n",
            " 5   types            object\n",
            " 6   attributes       object\n",
            " 7   isOriginalTitle  object\n",
            "dtypes: int64(1), object(7)\n",
            "memory usage: 2.0+ GB\n"
          ]
        }
      ]
    },
    {
      "cell_type": "code",
      "source": [
        "print('I think the table ordering is not necessary.')"
      ],
      "metadata": {
        "colab": {
          "base_uri": "https://localhost:8080/"
        },
        "id": "xcPnDv9CmPvz",
        "outputId": "cacb831a-bc92-4101-cbea-f4010997ed92"
      },
      "execution_count": null,
      "outputs": [
        {
          "output_type": "stream",
          "name": "stdout",
          "text": [
            "I think the table ordering is not necessary.\n"
          ]
        }
      ]
    },
    {
      "cell_type": "code",
      "source": [
        "print('MISSING VALUES:')\n",
        "print('')\n",
        "print('titleId:', title_akas['titleId'].isna().sum())\n",
        "print('ordering:', title_akas['ordering'].isna().sum())\n",
        "print('title:', title_akas['title'].isna().sum())\n",
        "print('region:', title_akas['region'].isna().sum())\n",
        "print('language:', title_akas['types'].isna().sum())\n",
        "print('attributes:', title_akas['attributes'].isna().sum())\n",
        "print('isOriginalTitle:', title_akas['isOriginalTitle'].isna().sum())"
      ],
      "metadata": {
        "colab": {
          "base_uri": "https://localhost:8080/"
        },
        "id": "93IrZboumcx8",
        "outputId": "78b94923-e744-4353-f105-9b380028ac97"
      },
      "execution_count": null,
      "outputs": [
        {
          "output_type": "stream",
          "name": "stdout",
          "text": [
            "MISSING VALUES:\n",
            "\n",
            "titleId: 0\n",
            "ordering: 0\n",
            "title: 5\n",
            "region: 105\n",
            "language: 0\n",
            "attributes: 0\n",
            "isOriginalTitle: 0\n"
          ]
        }
      ]
    },
    {
      "cell_type": "code",
      "source": [
        "title_akas['title'].nunique()"
      ],
      "metadata": {
        "colab": {
          "base_uri": "https://localhost:8080/"
        },
        "id": "1WaeBYJJnwyt",
        "outputId": "bdb2d681-928d-4d50-fba0-9934eed82dde"
      },
      "execution_count": null,
      "outputs": [
        {
          "output_type": "execute_result",
          "data": {
            "text/plain": [
              "4092845"
            ]
          },
          "metadata": {},
          "execution_count": 13
        }
      ]
    },
    {
      "cell_type": "code",
      "source": [
        "print('There are 4092845 different titles from 33516348 entries.')\n",
        "different_title_names = (4092845*100)/33516348\n",
        "print('There are aprox. 12.2% different titles names.')"
      ],
      "metadata": {
        "colab": {
          "base_uri": "https://localhost:8080/"
        },
        "id": "FNWnBAf9n-cr",
        "outputId": "0eda0f4f-77b5-4850-8aed-3de1a23cddc5"
      },
      "execution_count": null,
      "outputs": [
        {
          "output_type": "stream",
          "name": "stdout",
          "text": [
            "There are 4092845 different titles from 33516348 entries.\n",
            "There are aprox. 12.2% different titles.\n"
          ]
        }
      ]
    },
    {
      "cell_type": "code",
      "source": [
        "title_akas['titleId'].nunique()\n",
        "different_title_id = (6603516*100)/33516348\n",
        "print('There are aprox. 19.7% different titles ids.')"
      ],
      "metadata": {
        "colab": {
          "base_uri": "https://localhost:8080/"
        },
        "id": "Q1KdS7vqpE1N",
        "outputId": "2fe69d9c-f72d-41e7-f483-ba0443524a83"
      },
      "execution_count": null,
      "outputs": [
        {
          "output_type": "stream",
          "name": "stdout",
          "text": [
            "There are aprox. 19.7% different titles ids.\n"
          ]
        }
      ]
    },
    {
      "cell_type": "code",
      "source": [
        "print('UNIQUE VALUES:')\n",
        "print('')\n",
        "print('ordering:', title_akas['ordering'].nunique())\n",
        "print('region:', title_akas['region'].nunique())\n",
        "print('language:', title_akas['language'].nunique())\n",
        "print('types:', title_akas['types'].nunique())\n",
        "print('attributes:', title_akas['attributes'].nunique())\n",
        "print('isOriginalTitle:', title_akas['isOriginalTitle'].nunique())"
      ],
      "metadata": {
        "colab": {
          "base_uri": "https://localhost:8080/"
        },
        "id": "Ih3tFSxGp0Lk",
        "outputId": "98893ebb-2eea-4c54-f965-9d1a37949ea8"
      },
      "execution_count": null,
      "outputs": [
        {
          "output_type": "stream",
          "name": "stdout",
          "text": [
            "UNIQUE VALUES:\n",
            "\n",
            "ordering: 248\n",
            "region: 248\n",
            "language: 107\n",
            "types: 1\n",
            "attributes: 1\n",
            "isOriginalTitle: 5\n"
          ]
        }
      ]
    },
    {
      "cell_type": "code",
      "source": [
        "print('So we can exclude the types and attributes columns.')\n",
        "print('We can also sum up that there are 248 regions and 107 languages.')\n",
        "print('Also its better to verify why there are 5 unique values on the isOriginalTitle when it is suppose to have only 0 and 1 values.')"
      ],
      "metadata": {
        "colab": {
          "base_uri": "https://localhost:8080/"
        },
        "id": "oiUGTLH4q6yt",
        "outputId": "90cf833e-33ef-4d91-f5c1-a777c9cb6b0c"
      },
      "execution_count": null,
      "outputs": [
        {
          "output_type": "stream",
          "name": "stdout",
          "text": [
            "So we can exclude the types and attributes columns.\n",
            "We can also sum up that there are 248 regions and 107 languages.\n",
            "Also its better to verify why there are 5 unique values on the isOriginalTitle when it is suppose to have only 0 and 1 values.\n"
          ]
        }
      ]
    }
  ]
}