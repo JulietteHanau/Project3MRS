{
 "cells": [
  {
   "cell_type": "code",
   "execution_count": null,
   "id": "e783ee25-63b3-46f1-9081-f45c27fd641a",
   "metadata": {},
   "outputs": [],
   "source": [
    "import pandas as pd\n",
    "critic_reviews = pd.read_csv('https://raw.githubusercontent.com/Sebastiao199/Project3MRS/main/rotten_tomatoes_movies.csv')\n",
    "critic_reviews"
   ]
  }
 ],
 "metadata": {
  "kernelspec": {
   "display_name": "Python 3 (ipykernel)",
   "language": "python",
   "name": "python3"
  },
  "language_info": {
   "codemirror_mode": {
    "name": "ipython",
    "version": 3
   },
   "file_extension": ".py",
   "mimetype": "text/x-python",
   "name": "python",
   "nbconvert_exporter": "python",
   "pygments_lexer": "ipython3",
   "version": "3.9.12"
  }
 },
 "nbformat": 4,
 "nbformat_minor": 5
}
